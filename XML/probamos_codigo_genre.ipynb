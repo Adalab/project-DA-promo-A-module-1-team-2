{
 "cells": [
  {
   "cell_type": "code",
   "execution_count": null,
   "metadata": {},
   "outputs": [],
   "source": [
    "#VAMOS A LIMIAR EL ARCHIVO XML.\n",
    "\n",
    "#Ahora mismo estamos probando distintos códigos para sustituir el texto del tag 'genre' por su respectiva palabra.\n",
    "# 0 = Hombre, 1 = Mujer, 2 = No-binario, 3 = Prefiero no responder, 4 = Prefiero autodescribirme.\n",
    "\n",
    "import xml.etree.ElementTree as ET\n",
    "from os import getcwd, listdir\n",
    "\n",
    "\n",
    "import re\n",
    "\n",
    "\n",
    "tree = ET.parse('BASE_DATOS/data_xml.xml')\n",
    "root = tree.getroot()\n",
    "\n",
    "for row in root:\n",
    "    print(row.tag)\n",
    "    for genre in row:\n",
    "        print('    ', genre.tag, genre.text)\n",
    "        if genre.text == '0':\n",
    "            genre.set('0', 'Hombre')\n",
    "        if genre.text == '1':\n",
    "            genre.set('1', 'Mujer')\n",
    "        else:\n",
    "            pass"
   ]
  },
  {
   "cell_type": "code",
   "execution_count": null,
   "metadata": {},
   "outputs": [],
   "source": [
    "#Continuamos probando distintas opciones.\n",
    "\n",
    "for row in root:\n",
    "    print(root.find('row').find('age').text)"
   ]
  },
  {
   "cell_type": "code",
   "execution_count": null,
   "metadata": {},
   "outputs": [],
   "source": [
    "import re\n",
    "\n",
    "import xml.dom.minidom as md\n",
    "\n",
    "import xml.etree.ElementTree as ET\n",
    "from os import getcwd, listdir\n",
    "\n",
    "archivo = md.parse(\"data_xml.xml\")\n",
    "\n",
    "tree = ET.parse('/home/adalaber/Escritorio/MODULO 1/PROYECTO1/BASE_DATOS/data_xml.xml')\n",
    "root = tree.getroot()\n",
    "\n",
    "archivo.getElementsByTagName( \"genre\" )[ 0 ].childNodes[ 0 ].nodeValue = \"Hombre\" \n",
    "with open( \"data_xml.xml\", \"r\" ) as fs: \n",
    "  \n",
    "        fs.read(archivo)\n",
    "        fs.close() "
   ]
  },
  {
   "cell_type": "code",
   "execution_count": null,
   "metadata": {},
   "outputs": [],
   "source": [
    "import re\n",
    "\n",
    "tree = ET.parse('/home/adalaber/Escritorio/MODULO 1/PROYECTO1/BASE_DATOS/data_xml.xml')\n",
    "root = tree.getroot()\n",
    "\n",
    "for row in root:\n",
    "    for child in row.findall(\"./genre\"):\n",
    "    # Search for the commas in the format text\n",
    "        match = re.search('0',child.text)\n",
    "        if match:\n",
    "            child.set('genre','Hombre')\n",
    "        else:\n",
    "            pass\n",
    "# Write out the tree to the file again\n",
    "tree.write(\"data_xml.xml\")\n",
    "tree = ET.parse('data_xml.xml')\n",
    "root = tree.getroot()\n",
    "for row in root:\n",
    "    print(row.tag, row.text)\n",
    "    for child in row.findall(\"./genre\"):\n",
    "        match = re.search('0',child.text)\n",
    "        if match:\n",
    "            child.set('genre','Hombre')\n",
    "            print('    ', child.tag, child.text)\n",
    "        else:\n",
    "            pass"
   ]
  },
  {
   "cell_type": "code",
   "execution_count": null,
   "metadata": {},
   "outputs": [],
   "source": [
    "import xml.etree.ElementTree as xmlParser\n",
    "\n",
    "xmlTree = xmlParser.parse('/home/adalaber/Escritorio/MODULO 1/PROYECTO1/BASE_DATOS/data_xml.xml')\n",
    "rootElement = xmlTree.getroot()\n",
    "\n",
    "for element in rootElement.findall('genre'):\n",
    "    if 'Python' in element.find('0').text :\n",
    "        element.set('0','Hombre')\n",
    "    \n",
    "    else:\n",
    "        element.set('1','Mujer')\n",
    "\n",
    "xmlTree.write('data_xml.xml',encoding='UTF-8',xml_declaration=True) "
   ]
  }
 ],
 "metadata": {
  "interpreter": {
   "hash": "ef996a58dd4038b19127a5b342ff558a720418179ddf7c29df6339888c2ae8ac"
  },
  "kernelspec": {
   "display_name": "Python 3.9.7 ('base')",
   "language": "python",
   "name": "python3"
  },
  "language_info": {
   "name": "python",
   "version": "3.9.7"
  },
  "orig_nbformat": 4
 },
 "nbformat": 4,
 "nbformat_minor": 2
}
