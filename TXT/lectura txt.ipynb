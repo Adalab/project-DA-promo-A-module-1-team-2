{
 "cells": [
  {
   "cell_type": "code",
   "execution_count": 31,
   "metadata": {},
   "outputs": [
    {
     "name": "stdout",
     "output_type": "stream",
     "text": [
      "/Users/Almudena/Desktop/adalab/project-DA-promo-A-module-1-team-2/ficheros iniciales\n",
      "['datos sql.sql', 'lectura txt.ipynb', 'data_txt.txt']\n",
      "index;Q3;Q4;Q5;Q6;Q8;Q11;Q13;Q15;Q20;Q21;Q22;Q23;Q25;Q26;Q33;Q35;Q41;Q7;Q9;Q12;Q14;Q16;Q17;Q24;Q32;Q34\n",
      "\n",
      "0;India;Bachelor’s degree;Other;5-10 years;Python;A laptop;2-5 times;5-10 years;Manufacturing/Fabrication;50-249 employees;3-4;No (we do not use ML methods);25,000-29,999;$100-$999;null;null;Local development environments (RStudio, JupyterLab, etc.);Python, R;null,   Vim / Emacs  ;null,  Google Cloud TPUs ; Matplotlib ,  Seaborn ,  Ggplot / ggplot2 ,  Shiny ,  Leaflet / Folium ;  Scikit-learn ,   TensorFlow ,  Caret ;Linear or Logistic Regression, Decision Trees or Random Forests, Gradient Boosting Machines (xgboost, lightgbm, etc), Bayesian Approaches, Dense Neural Networks (MLPs, etc), Convolutional Neural Networks, Recurrent Neural Networks;null, None of these activities are an important part of my role at work;null, PostgreSQL ;null, None\n",
      "\n",
      "1;Indonesia;Master’s degree;Program/Project Manager;20+ years;Python;A cloud computing platform (AWS, Azure, GCP, hosted notebooks, etc);Never;Under 1 year;Manufacturing/Fabrication;1000-9,999 employees;1-2;We are exploring ML methods (and may one day put a model into production);60,000-69,999;$0 ($USD);null;null;Advanced statistical software (SPSS, SAS, etc.);null, SQL, C, C++, Java;null,   Notepad++  ,  Jupyter Notebook;null, None; Matplotlib ;  Scikit-learn ;Linear or Logistic Regression, Decision Trees or Random Forests;null, Build and/or run the data infrastructure that my business uses for storing, analyzing, and operationalizing data;null;null\n",
      "\n",
      "2;Pakistan;Master’s degree;Software Engineer;1-3 years;Python;A laptop;Never;I do not use machine learning methods;Academics/Education;1000-9,999 employees;0;I do not know;$0-999;$0 ($USD);MySQL ;null;Basic statistical software (Microsoft Excel, Google Sheets, etc.);Python, C++, Java;null,  PyCharm ,  Jupyter Notebook, Other;null, Other; Matplotlib ;null;null;null, None of these activities are an important part of my role at work;MySQL , MongoDB ;null, None\n",
      "\n",
      "3;Mexico;Doctoral degree;Research Scientist;20+ years;Python;A cloud computing platform (AWS, Azure, GCP, hosted notebooks, etc);More than 25 times;5-10 years;Academics/Education;1000-9,999 employees;0;I do not know;30,000-39,999;$0 ($USD);null;null;Local development environments (RStudio, JupyterLab, etc.);Python;null,   Spyder  ,  Jupyter Notebook; NVIDIA GPUs ; Matplotlib ;  Scikit-learn ,   TensorFlow ,  Keras ;null, Dense Neural Networks (MLPs, etc), Convolutional Neural Networks, Recurrent Neural Networks;null, Do research that advances the state of the art of machine learning;null;null\n",
      "\n"
     ]
    }
   ],
   "source": [
    "import os\n",
    "\n",
    "print(os.getcwd())\n",
    "\n",
    "print(os.listdir())\n",
    "\n",
    "data_txt = '/Users/Almudena/Desktop/adalab/project-DA-promo-A-module-1-team-2/ficheros iniciales/data_txt.txt'\n",
    "\n",
    "f = open(data_txt)\n",
    "lineas_archivo = f.readlines()\n",
    "print(lineas_archivo[0])\n",
    "print(lineas_archivo[1])\n",
    "print(lineas_archivo[2])\n",
    "print(lineas_archivo[3])\n",
    "print(lineas_archivo[4])\n",
    "\n"
   ]
  },
  {
   "cell_type": "code",
   "execution_count": null,
   "metadata": {},
   "outputs": [],
   "source": [
    "import os\n",
    "\n",
    "def lectura():\n",
    "    print('Hola, este programa te ayudará a preparar tu archivo .txt para exportarlo a SQL. Comprueba que el archivo en cuestión es .txt')\n",
    "    print(os.getcwd())\n",
    "\n",
    "    archivo_original = '/data_txt.txt'\n",
    "    destino_final = './archivo_original'\n",
    "\n",
    "    try:\n",
    "        archivo_original in os.listdir()\n",
    "        print('Tu archivo está en el directorio correcto')\n",
    "    except:\n",
    "        print('Tu archivo no está en el directorio correcto. Por favor, trasládalo a:', os.getcwd())\n",
    "\n",
    "    try:\n",
    "        os.mkdir('./ficheros_limpios')\n",
    "        print('La carpeta ficheros_limpios ha sido creada. Por favor, utilízala en el futuro para guardar tus archivos .txt limpios')\n",
    "    except:\n",
    "        print('La carpeta ficheros_limpios ya está creada. Por favor, utilízala a partir de ahora para guardar tus archivos .txt limpios')"
   ]
  }
 ],
 "metadata": {
  "interpreter": {
   "hash": "9df72549cec875d35faaa50875d444b10c11452b268975a17c9dc6870f43870f"
  },
  "kernelspec": {
   "display_name": "Python 3.9.7 ('base')",
   "language": "python",
   "name": "python3"
  },
  "language_info": {
   "codemirror_mode": {
    "name": "ipython",
    "version": 3
   },
   "file_extension": ".py",
   "mimetype": "text/x-python",
   "name": "python",
   "nbconvert_exporter": "python",
   "pygments_lexer": "ipython3",
   "version": "3.8.9"
  },
  "orig_nbformat": 4
 },
 "nbformat": 4,
 "nbformat_minor": 2
}
