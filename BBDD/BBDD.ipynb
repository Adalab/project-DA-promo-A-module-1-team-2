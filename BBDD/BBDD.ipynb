{
 "cells": [
  {
   "cell_type": "markdown",
   "metadata": {},
   "source": [
    "Aqui nos muestra los datos de las tablas (columnas y filas)"
   ]
  },
  {
   "cell_type": "code",
   "execution_count": null,
   "metadata": {},
   "outputs": [],
   "source": [
    "import mysql.connector\n",
    "import pandas as pd\n",
    "\n",
    "mydbs = mysql.connector.connect(user='root', database='dataSQL', password='AlumnaAdalab')\n",
    "mycursor = mydbs.cursor()\n",
    "\n",
    "query = (\"SELECT * FROM data_sql LIMIT 3\")        \n",
    "mycursor.execute(query)\n",
    "\n",
    "myresult = mycursor.fetchone() \n",
    "while myresult != None:\n",
    "    print(myresult)\n"
   ]
  },
  {
   "cell_type": "markdown",
   "metadata": {},
   "source": [
    "Aqui se modifican datos de una columna"
   ]
  },
  {
   "cell_type": "code",
   "execution_count": null,
   "metadata": {},
   "outputs": [],
   "source": [
    "\n",
    "mydbs = mysql.connector.connect(user='root', database='dataSQL', password='AlumnaAdalab')\n",
    "mycursor = mydbs.cursor()\n",
    "\n",
    "sql = \"UPDATE data_sql SET Q10_Part_3 = 'NULL' WHERE Q10_Part_3 = 'ERROR'\"\n",
    "try:\n",
    "    mycursor.execute(sql)\n",
    "    mydbs.commit()\n",
    "    print(mycursor.rowcount, \"registro/s modificado/s.\")\n",
    "\n",
    "except mysql.connector.Error as err:\n",
    "    print(err)\n",
    "    print(\"Error Code:\", err.errno)\n",
    "    print(\"SQLSTATE\", err.sqlstate)\n",
    "    print(\"Message\", err.msg)\n",
    "\n",
    "mycursor.execute(\"SELECT * FROM data_sql\")  \n",
    "results = mycursor.fetchall()\n",
    "print(results)\n"
   ]
  },
  {
   "cell_type": "markdown",
   "metadata": {},
   "source": [
    "Aqui se pueden eiminar una tabla NO EJECUTAR QUE SE BORRA TODO, cuidado"
   ]
  },
  {
   "cell_type": "code",
   "execution_count": null,
   "metadata": {},
   "outputs": [],
   "source": [
    "\n",
    "def eliminar_tabla():\n",
    "    mycursor = mydbs.cursor()\n",
    "    sql = \"DROP TABLE data_sql\"\n",
    "    try:\n",
    "        mycursor.execute(sql)\n",
    "\n",
    "    except mysql.connector.Error as err:\n",
    "        print(err)\n",
    "        print(\"Error Code:\", err.errno)\n",
    "        print(\"SQLSTATE\", err.sqlstate)\n",
    "        print(\"Message\", err.msg)"
   ]
  },
  {
   "cell_type": "markdown",
   "metadata": {},
   "source": [
    "---------------------------------------------------------------------------------------------------------------------------------------"
   ]
  },
  {
   "cell_type": "markdown",
   "metadata": {},
   "source": [
    "FUNCIONES"
   ]
  },
  {
   "cell_type": "code",
   "execution_count": 13,
   "metadata": {},
   "outputs": [],
   "source": [
    "\n",
    "import mysql.connector\n",
    "import pandas as pd\n",
    "\n",
    "def limpiar_datos ():\n",
    "    columnas_limpiar = [\"Q10_Part_1\", \"Q10_Part_2\",\"Q10_Part_3\",\n",
    "    \"Q10_Part_4\",\"Q10_Part_5\",\"Q10_Part_6\",\n",
    "    \"Q10_Part_7\",\"Q10_Part_8\",\"Q10_Part_9\",\n",
    "    \"Q10_Part_10\",\"Q10_Part_11\",\"Q10_Part_12\",\n",
    "    \"Q10_Part_13\",\"Q10_Part_14\",\"Q10_Part_15\",\"Q10_Part_16\",\"Q10_OTHER\"]\n",
    "\n",
    "    mydbs = mysql.connector.connect(user='root', database='dataSQL', password='AlumnaAdalab') \n",
    "    mycursor = mydbs.cursor()\n",
    "\n",
    "    for values in columnas_limpiar:\n",
    "\n",
    "        try:\n",
    "            sql = (\"UPDATE data_sql\" + \"SET\" + str(values) +\" = NULL\" + \"WHERE\" +str(values) +\"=  'ERROR'\")\n",
    "            mycursor.execute(sql)\n",
    "            mydbs.commit()\n",
    "            print(mycursor.rowcount, \"registro/s modificado/s.\")\n",
    "\n",
    "        except mysql.connector.Error as err:\n",
    "            print(err)\n",
    "            print(\"Error Code:\", err.errno)\n",
    "            print(\"SQLSTATE\", err.sqlstate)\n",
    "            print(\"Message\", err.msg)\n",
    "\n",
    "def guardar_datos():\n",
    "\n",
    "    mydbs = mysql.connector.connect(user='root', database='dataSQL', password='AlumnaAdalab') \n",
    "    mycursor = mydbs.cursor()\n",
    "\n",
    "    sql = \"SELECT * FROM data_sql LIMIT 20\"\n",
    "    df_datasql = pd.DataFrame(myresult)\n",
    "    print(df_datasql)\n",
    "\n",
    "    #guarda los archivos en excel\n",
    "    df_datasql.to_csv('archivos_limpios.csv',sep=';') \n",
    "\n",
    "\n",
    "def eliminar_datos():\n",
    "\n",
    "    mydbs = mysql.connector.connect(user='root', database='dataSQL', password='AlumnaAdalab') \n",
    "    mycursor = mydbs.cursor()\n",
    "\n",
    "    sql = \"DELETE FROM data_sql WHERE Q10_Part_3 = 'ERROR'\"\n",
    "    try:\n",
    "        mycursor.execute(sql)\n",
    "        mydbs.commit()\n",
    "        print(mycursor.rowcount, \"registro/s eliminado/s\")\n",
    "\n",
    "    except mysql.connector.Error as err:\n",
    "        print(err)\n",
    "        print(\"Error Code:\", err.errno)\n",
    "        print(\"SQLSTATE\", err.sqlstate)\n",
    "        print(\"Message\", err.msg)\n",
    "\n",
    "def eliminar_tabla():\n",
    "\n",
    "    mydbs = mysql.connector.connect(user='root', database='dataSQL', password='AlumnaAdalab') \n",
    "    mycursor = mydbs.cursor()\n",
    "\n",
    "    sql = \"DROP TABLE data_sql\"\n",
    "    try:\n",
    "        mycursor.execute(sql)\n",
    "\n",
    "    except mysql.connector.Error as err:\n",
    "        print(err)\n",
    "\n",
    "    "
   ]
  }
 ],
 "metadata": {
  "interpreter": {
   "hash": "40d3a090f54c6569ab1632332b64b2c03c39dcf918b08424e98f38b5ae0af88f"
  },
  "kernelspec": {
   "display_name": "Python 3.9.7 ('base')",
   "language": "python",
   "name": "python3"
  },
  "language_info": {
   "codemirror_mode": {
    "name": "ipython",
    "version": 3
   },
   "file_extension": ".py",
   "mimetype": "text/x-python",
   "name": "python",
   "nbconvert_exporter": "python",
   "pygments_lexer": "ipython3",
   "version": "3.9.7"
  },
  "orig_nbformat": 4
 },
 "nbformat": 4,
 "nbformat_minor": 2
}
