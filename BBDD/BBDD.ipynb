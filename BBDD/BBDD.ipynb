{
 "cells": [
  {
   "cell_type": "code",
   "execution_count": null,
   "metadata": {},
   "outputs": [],
   "source": [
    "import mysql.connector\n",
    "import pandas as pd\n",
    "\n",
    "#Aqui nos muestra los datos de las tablas (columnas y filas)\n",
    "mydbs = mysql.connector.connect(user='root', database='dataSQL', password='AlumnaAdalab')\n",
    "mycursor = mydbs.cursor()\n",
    "\n",
    "query = (\"SELECT * FROM data_sql\")        \n",
    "mycursor.execute(query)\n",
    "\n",
    "myresult = mycursor.fetchone() # me enseña todos los resultado de la query OJO! Si pongo fetchall() me enseña todo y es mucho PC PUMM\n",
    "while myresult != None:\n",
    "    print(myresult)\n"
   ]
  },
  {
   "cell_type": "code",
   "execution_count": 10,
   "metadata": {},
   "outputs": [
    {
     "name": "stdout",
     "output_type": "stream",
     "text": [
      "   0                  1                2      3      4      5      6      7   \\\n",
      "0   0              ERROR  Colab Notebooks  ERROR  ERROR  ERROR  ERROR  ERROR   \n",
      "1   1   Kaggle Notebooks  Colab Notebooks  ERROR  ERROR  ERROR  ERROR  ERROR   \n",
      "\n",
      "      8      9      10     11     12     13     14     15     16     17  \n",
      "0  ERROR  ERROR  ERROR  ERROR  ERROR  ERROR  ERROR  ERROR  ERROR  ERROR  \n",
      "1  ERROR  ERROR  ERROR  ERROR  ERROR  ERROR  ERROR  ERROR  ERROR  ERROR  \n"
     ]
    }
   ],
   "source": [
    "#Aqui se llama a pandas y se tienen los resultados tipo tabla ordenado\n",
    "sql = \"SELECT * FROM data_sql LIMIT 20\"\n",
    "df_datasql = pd.DataFrame(myresult)\n",
    "print(df_datasql)\n",
    "\n",
    "#df_datasql.to_csv('ejercicio3.csv',sep=';') -- !!!!Aqui se guarda el archivo seleccionado como CVS si lo selecciono\n",
    "\n"
   ]
  },
  {
   "cell_type": "code",
   "execution_count": null,
   "metadata": {},
   "outputs": [],
   "source": [
    "#Aqui se puede cambiar los datos de las filas de las columnas que queramos: FUNCIONA COMPROBADO EN WORKBENCH\n",
    "\n",
    "mydbs = mysql.connector.connect(user='root', database='dataSQL', password='AlumnaAdalab')\n",
    "mycursor = mydbs.cursor()\n",
    "\n",
    "\n",
    "sql = \"UPDATE data_sql SET Q10_Part_2 = 'NULL' WHERE Q10_Part_2 = 'ERROR'\"\n",
    "try:\n",
    "    mycursor.execute(sql)\n",
    "    mydbs.commit()\n",
    "    print(mycursor.rowcount, \"registro/s modificado/s.\")\n",
    "\n",
    "except mysql.connector.Error as err:\n",
    "    print(err)\n",
    "    print(\"Error Code:\", err.errno)\n",
    "    print(\"SQLSTATE\", err.sqlstate)\n",
    "    print(\"Message\", err.msg)\n",
    "\n",
    "mycursor.execute(\"SELECT * FROM data_sql\")  \n",
    "results = mycursor.fetchall()\n",
    "#print(results)"
   ]
  },
  {
   "cell_type": "code",
   "execution_count": null,
   "metadata": {},
   "outputs": [],
   "source": [
    "\n",
    "#Aqui se pueden eiminar una tabla NO EJECUTAR QUE SE BORRA TODO, cuidado\n",
    "mycursor = mydbs.cursor()\n",
    "#sql = \"DROP TABLE data_sql\"\n",
    "try:\n",
    "    mycursor.execute(sql)\n",
    "\n",
    "except mysql.connector.Error as err:\n",
    "    print(err)\n",
    "    print(\"Error Code:\", err.errno)\n",
    "    print(\"SQLSTATE\", err.sqlstate)\n",
    "    print(\"Message\", err.msg)"
   ]
  }
 ],
 "metadata": {
  "interpreter": {
   "hash": "40d3a090f54c6569ab1632332b64b2c03c39dcf918b08424e98f38b5ae0af88f"
  },
  "kernelspec": {
   "display_name": "Python 3.9.7 ('base')",
   "language": "python",
   "name": "python3"
  },
  "language_info": {
   "codemirror_mode": {
    "name": "ipython",
    "version": 3
   },
   "file_extension": ".py",
   "mimetype": "text/x-python",
   "name": "python",
   "nbconvert_exporter": "python",
   "pygments_lexer": "ipython3",
   "version": "3.9.7"
  },
  "orig_nbformat": 4
 },
 "nbformat": 4,
 "nbformat_minor": 2
}
