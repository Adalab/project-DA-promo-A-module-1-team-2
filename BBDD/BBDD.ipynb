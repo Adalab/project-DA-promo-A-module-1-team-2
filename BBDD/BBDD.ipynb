{
 "cells": [
  {
   "cell_type": "code",
   "execution_count": null,
   "metadata": {},
   "outputs": [],
   "source": [
    "import mysql.connector\n",
    "import pandas as pd\n",
    "\n",
    "#Aqui nos muestra los datos de las tablas (columnas y filas)\n",
    "mydbs = mysql.connector.connect(user='root', database='dataSQL', password='AlumnaAdalab')\n",
    "mycursor = mydbs.cursor()\n",
    "\n",
    "query = (\"SELECT * FROM data_sql LIMIT 3\")        \n",
    "mycursor.execute(query)\n",
    "\n",
    "myresult = mycursor.fetchone() \n",
    "while myresult != None:\n",
    "    print(myresult)\n"
   ]
  },
  {
   "cell_type": "code",
   "execution_count": null,
   "metadata": {},
   "outputs": [],
   "source": [
    "#Aqui se llama a pandas y se tienen los resultados tipo tabla ordenado\n",
    "sql = \"SELECT * FROM data_sql LIMIT 20\"\n",
    "df_datasql = pd.DataFrame(myresult)\n",
    "print(df_datasql)\n",
    "\n",
    "df_datasql.to_csv('ejercicio3.csv',sep=';') \n"
   ]
  },
  {
   "cell_type": "code",
   "execution_count": null,
   "metadata": {},
   "outputs": [],
   "source": [
    "\n",
    "\n",
    "mydbs = mysql.connector.connect(user='root', database='dataSQL', password='AlumnaAdalab')\n",
    "mycursor = mydbs.cursor()\n",
    "\n",
    "sql = \"UPDATE data_sql SET Q10_Part_3 = 'NULL' WHERE Q10_Part_3 = 'ERROR'\"\n",
    "try:\n",
    "    mycursor.execute(sql)\n",
    "    mydbs.commit()\n",
    "    print(mycursor.rowcount, \"registro/s modificado/s.\")\n",
    "\n",
    "except mysql.connector.Error as err:\n",
    "    print(err)\n",
    "    print(\"Error Code:\", err.errno)\n",
    "    print(\"SQLSTATE\", err.sqlstate)\n",
    "    print(\"Message\", err.msg)\n",
    "\n",
    "mycursor.execute(\"SELECT * FROM data_sql\")  \n",
    "results = mycursor.fetchall()\n",
    "print(results)\n",
    "\n",
    "df_datasql.to_csv('ejercicio3.csv',sep=';') "
   ]
  },
  {
   "cell_type": "code",
   "execution_count": null,
   "metadata": {},
   "outputs": [],
   "source": [
    "\n",
    "#Aqui se pueden eiminar una tabla NO EJECUTAR QUE SE BORRA TODO, cuidado\n",
    "def eliminar_tabla():\n",
    "    mycursor = mydbs.cursor()\n",
    "    sql = \"DROP TABLE data_sql\"\n",
    "    try:\n",
    "        mycursor.execute(sql)\n",
    "\n",
    "    except mysql.connector.Error as err:\n",
    "        print(err)\n",
    "        print(\"Error Code:\", err.errno)\n",
    "        print(\"SQLSTATE\", err.sqlstate)\n",
    "        print(\"Message\", err.msg)"
   ]
  },
  {
   "cell_type": "code",
   "execution_count": 13,
   "metadata": {},
   "outputs": [],
   "source": [
    "\n",
    "import mysql.connector\n",
    "import pandas as pd\n",
    "\n",
    "def limpiar_datos ():\n",
    "\n",
    "    mydbs = mysql.connector.connect(user='root', database='dataSQL', password='AlumnaAdalab') \n",
    "    mycursor = mydbs.cursor()\n",
    "\n",
    "    sql = \"UPDATE data_sql SET Q10_Part_2 = 'NULL' WHERE Q10_Part_2 = 'ERROR'\"\n",
    "    \n",
    "    try:\n",
    "        mycursor.execute(sql)\n",
    "        mydbs.commit()\n",
    "        print(mycursor.rowcount, \"registro/s modificado/s.\")\n",
    "\n",
    "    except mysql.connector.Error as err:\n",
    "        print(err)\n",
    "\n",
    "\n",
    "def save_limpios():\n",
    "\n",
    "    df_datasql.to_csv('ejercicio3.csv',sep=';') \n",
    "\n",
    "\n",
    "def eliminar():\n",
    "\n",
    "    mycursor = mydbs.cursor()\n",
    "    sql = \"DROP TABLE data_sql\"\n",
    "    try:\n",
    "        mycursor.execute(sql)\n",
    "\n",
    "    except mysql.connector.Error as err:\n",
    "        print(err)\n",
    "\n",
    "    "
   ]
  },
  {
   "cell_type": "markdown",
   "metadata": {},
   "source": [
    "ENSEÑAR EN BRUTO"
   ]
  },
  {
   "cell_type": "code",
   "execution_count": null,
   "metadata": {},
   "outputs": [],
   "source": [
    "import mysql.connector\n",
    "import pandas as pd\n",
    "\n",
    "#Aqui nos muestra los datos de las tablas (columnas y filas)\n",
    "mydbs = mysql.connector.connect(user='root', database='dataSQL', password='AlumnaAdalab')\n",
    "mycursor = mydbs.cursor()\n",
    "\n",
    "mycursor.execute(\"SELECT Q10_Part_4 FROM data_sql\")  \n",
    "results = mycursor.fetchall()\n",
    "print(results)"
   ]
  },
  {
   "cell_type": "markdown",
   "metadata": {},
   "source": [
    "funcion limpiar datos"
   ]
  },
  {
   "cell_type": "code",
   "execution_count": 20,
   "metadata": {},
   "outputs": [],
   "source": [
    "def limpiar_datos ():\n",
    "\n",
    "    mydbs = mysql.connector.connect(user='root', database='dataSQL', password='AlumnaAdalab') \n",
    "    mycursor = mydbs.cursor()\n",
    "\n",
    "    sql = \"UPDATE data_sql SET Q10_Part_4 = 'NULL' WHERE Q10_Part_4 = 'ERROR'\"\n",
    "    try:\n",
    "        mycursor.execute(sql)\n",
    "        mydbs.commit()\n",
    "        print(mycursor.rowcount, \"registro/s modificado/s.\")\n",
    "\n",
    "    except mysql.connector.Error as err:\n",
    "        print(err)\n",
    "        print(\"Error Code:\", err.errno)\n",
    "        print(\"SQLSTATE\", err.sqlstate)\n",
    "        print(\"Message\", err.msg)\n",
    "    \n",
    "    save_limpios"
   ]
  },
  {
   "cell_type": "markdown",
   "metadata": {},
   "source": [
    "esta es la que funciona "
   ]
  },
  {
   "cell_type": "code",
   "execution_count": 24,
   "metadata": {},
   "outputs": [
    {
     "name": "stdout",
     "output_type": "stream",
     "text": [
      "24203 registro/s modificado/s.\n"
     ]
    }
   ],
   "source": [
    "mydbs = mysql.connector.connect(user='root', database='dataSQL', password='AlumnaAdalab')\n",
    "mycursor = mydbs.cursor()\n",
    "\n",
    "sql = \"UPDATE data_sql SET Q10_Part_5 = 'NULL' WHERE Q10_Part_5 = 'ERROR'\"\n",
    "try:\n",
    "    mycursor.execute(sql)\n",
    "    mydbs.commit()\n",
    "    print(mycursor.rowcount, \"registro/s modificado/s.\")\n",
    "\n",
    "except mysql.connector.Error as err:\n",
    "    print(err)\n",
    "    print(\"Error Code:\", err.errno)\n",
    "    print(\"SQLSTATE\", err.sqlstate)\n",
    "    print(\"Message\", err.msg)\n",
    "\n",
    "df_datasql.to_csv('ejercicio3.csv',sep=';') "
   ]
  }
 ],
 "metadata": {
  "interpreter": {
   "hash": "40d3a090f54c6569ab1632332b64b2c03c39dcf918b08424e98f38b5ae0af88f"
  },
  "kernelspec": {
   "display_name": "Python 3.9.7 ('base')",
   "language": "python",
   "name": "python3"
  },
  "language_info": {
   "codemirror_mode": {
    "name": "ipython",
    "version": 3
   },
   "file_extension": ".py",
   "mimetype": "text/x-python",
   "name": "python",
   "nbconvert_exporter": "python",
   "pygments_lexer": "ipython3",
   "version": "3.9.7"
  },
  "orig_nbformat": 4
 },
 "nbformat": 4,
 "nbformat_minor": 2
}
